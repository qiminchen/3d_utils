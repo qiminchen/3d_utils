{
 "cells": [
  {
   "cell_type": "code",
   "execution_count": 1,
   "id": "guilty-lesbian",
   "metadata": {},
   "outputs": [],
   "source": [
    "import matlab.engine\n",
    "import numpy as np\n",
    "import trimesh\n",
    "import math\n",
    "import os\n",
    "from plyfile import PlyData\n",
    "import torch\n",
    "from sklearn.neighbors import KDTree"
   ]
  },
  {
   "cell_type": "code",
   "execution_count": 2,
   "id": "accompanied-mention",
   "metadata": {},
   "outputs": [],
   "source": [
    "def sample_points_triangle(vertices, triangles, num_of_points):\n",
    "    epsilon = 1e-6\n",
    "    triangle_area_list = np.zeros([len(triangles)], np.float32)\n",
    "    triangle_normal_list = np.zeros([len(triangles), 3], np.float32)\n",
    "    for i in range(len(triangles)):\n",
    "        # area = |u x v|/2 = |u||v|sin(uv)/2\n",
    "        a, b, c = vertices[triangles[i, 1]] - vertices[triangles[i, 0]]\n",
    "        x, y, z = vertices[triangles[i, 2]] - vertices[triangles[i, 0]]\n",
    "        ti = b * z - c * y\n",
    "        tj = c * x - a * z\n",
    "        tk = a * y - b * x\n",
    "        area2 = math.sqrt(ti * ti + tj * tj + tk * tk)\n",
    "        if area2 < epsilon:\n",
    "            triangle_area_list[i] = 0\n",
    "            triangle_normal_list[i, 0] = 0\n",
    "            triangle_normal_list[i, 1] = 0\n",
    "            triangle_normal_list[i, 2] = 0\n",
    "        else:\n",
    "            triangle_area_list[i] = area2\n",
    "            triangle_normal_list[i, 0] = ti / area2\n",
    "            triangle_normal_list[i, 1] = tj / area2\n",
    "            triangle_normal_list[i, 2] = tk / area2\n",
    "\n",
    "    triangle_area_sum = np.sum(triangle_area_list)\n",
    "    sample_prob_list = (num_of_points / triangle_area_sum) * triangle_area_list\n",
    "\n",
    "    triangle_index_list = np.arange(len(triangles))\n",
    "\n",
    "    point_normal_list = np.zeros([num_of_points, 6], np.float32)\n",
    "    count = 0\n",
    "    watchdog = 0\n",
    "\n",
    "    while count < num_of_points:\n",
    "        np.random.shuffle(triangle_index_list)\n",
    "        watchdog += 1\n",
    "        if watchdog > 100:\n",
    "            print(\"infinite loop here!\")\n",
    "            return point_normal_list\n",
    "        for i in range(len(triangle_index_list)):\n",
    "            if count >= num_of_points:\n",
    "                break\n",
    "            dxb = triangle_index_list[i]\n",
    "            prob = sample_prob_list[dxb]\n",
    "            prob_i = int(prob)\n",
    "            prob_f = prob - prob_i\n",
    "            if np.random.random() < prob_f:\n",
    "                prob_i += 1\n",
    "            normal_direction = triangle_normal_list[dxb]\n",
    "            u = vertices[triangles[dxb, 1]] - vertices[triangles[dxb, 0]]\n",
    "            v = vertices[triangles[dxb, 2]] - vertices[triangles[dxb, 0]]\n",
    "            base = vertices[triangles[dxb, 0]]\n",
    "            for j in range(prob_i):\n",
    "                # sample a point here:\n",
    "                u_x = np.random.random()\n",
    "                v_y = np.random.random()\n",
    "                if u_x + v_y >= 1:\n",
    "                    u_x = 1 - u_x\n",
    "                    v_y = 1 - v_y\n",
    "                ppp = u * u_x + v * v_y + base\n",
    "\n",
    "                point_normal_list[count, :3] = ppp\n",
    "                point_normal_list[count, 3:] = normal_direction\n",
    "                count += 1\n",
    "                if count >= num_of_points: break\n",
    "\n",
    "    return point_normal_list"
   ]
  },
  {
   "cell_type": "code",
   "execution_count": 3,
   "id": "suited-smile",
   "metadata": {},
   "outputs": [],
   "source": [
    "def write_ply_point(name, vertices):\n",
    "    fout = open(name, 'w')\n",
    "    fout.write(\"ply\\n\")\n",
    "    fout.write(\"format ascii 1.0\\n\")\n",
    "    fout.write(\"element vertex \"+str(len(vertices))+\"\\n\")\n",
    "    fout.write(\"property float x\\n\")\n",
    "    fout.write(\"property float y\\n\")\n",
    "    fout.write(\"property float z\\n\")\n",
    "    fout.write(\"end_header\\n\")\n",
    "    for ii in range(len(vertices)):\n",
    "        fout.write(str(vertices[ii,0])+\" \"+str(vertices[ii,1])+\" \"+str(vertices[ii,2])+\"\\n\")\n",
    "    fout.close()"
   ]
  },
  {
   "cell_type": "code",
   "execution_count": 2,
   "id": "precious-tutorial",
   "metadata": {},
   "outputs": [],
   "source": [
    "eng = matlab.engine.start_matlab()"
   ]
  },
  {
   "cell_type": "code",
   "execution_count": 8,
   "id": "regional-credit",
   "metadata": {},
   "outputs": [],
   "source": [
    "eng.convertply2obj(\"/mnt/sda/IM-LOGAN/outputs/supplementary/logan/short2tall\", nargout=0)"
   ]
  },
  {
   "cell_type": "code",
   "execution_count": null,
   "id": "cheap-orientation",
   "metadata": {},
   "outputs": [],
   "source": []
  },
  {
   "cell_type": "code",
   "execution_count": 4,
   "id": "affiliated-domain",
   "metadata": {},
   "outputs": [],
   "source": [
    "pos_path = \"/mnt/sda/IM-LOGAN/outputs/supplementary/unist/chair2table\"\n",
    "meshes = [i for i in os.listdir(pos_path) if i.endswith(\"vox.ply\")]\n",
    "Tx = np.array([[1, 0, 0], [0, 0, 1], [0, -1, 0]])\n",
    "Tz = np.array([[0, -1, 0], [1, 0, 0], [0, 0, 1]])\n",
    "for m in meshes:\n",
    "    mesh = trimesh.load(os.path.join(pos_path, m))\n",
    "    points = sample_points_triangle(np.array(mesh.vertices), np.array(mesh.faces), 2048)\n",
    "    np.random.shuffle(points)\n",
    "#     points[:, :3] = np.dot(np.dot(points[:, :3], Tx), Tz)\n",
    "#     write_ply_point(os.path.join(pos_path, m.replace(\"vox\", \"pc\")), points)\n",
    "    write_ply_point(os.path.join('/home/qimin/Downloads', m.replace(\"vox\", \"pc\")), points)\n",
    "    break"
   ]
  },
  {
   "cell_type": "code",
   "execution_count": 8,
   "id": "acoustic-slovakia",
   "metadata": {},
   "outputs": [],
   "source": [
    "eng.convertply2obj(\"/home/qimin/Projects/diffusion-point-cloud/results/AE_Ours_chair_1656828629/traj/0\", \n",
    "                   nargout=0)"
   ]
  },
  {
   "cell_type": "markdown",
   "id": "civilian-shannon",
   "metadata": {},
   "source": [
    "### Rename files"
   ]
  },
  {
   "cell_type": "code",
   "execution_count": 78,
   "id": "hundred-reply",
   "metadata": {},
   "outputs": [],
   "source": [
    "with open(\"/home/qimin/Projects/IM-LOGAN/outputs/user_study/3D/tall-short/short_src.txt\", \"r\") as f:\n",
    "    lines = f.read()\n",
    "lines = lines.split(\"\\n\")\n",
    "lines = [i for i in lines if i != '']\n",
    "name_dict = {}\n",
    "for l in lines:\n",
    "    rename, orig = l.split(\": \")\n",
    "    # for logan and src\n",
    "#     name_dict[\"ShortTable_test_\"+orig+\".obj\"] = rename.replace(\".png\", \".obj\")\n",
    "    # for pos and reg\n",
    "    name_dict[orig+\"_trans_z0_pc.obj\"] = rename.replace(\".png\", \".obj\")"
   ]
  },
  {
   "cell_type": "code",
   "execution_count": 81,
   "id": "early-origin",
   "metadata": {},
   "outputs": [],
   "source": [
    "files_path = \"/home/qimin/Projects/IM-LOGAN/outputs/user_study/3D/tall-short/short_regular_encoding\"\n",
    "files = [i for i in os.listdir(files_path) if i.endswith(\".obj\")]\n",
    "for f in files:\n",
    "    command = \"mv {} {}\".format(os.path.join(files_path, f), os.path.join(files_path, name_dict[f]))\n",
    "    os.system(command)"
   ]
  },
  {
   "cell_type": "code",
   "execution_count": null,
   "id": "combined-beast",
   "metadata": {},
   "outputs": [],
   "source": []
  },
  {
   "cell_type": "code",
   "execution_count": 32,
   "id": "administrative-kentucky",
   "metadata": {},
   "outputs": [],
   "source": [
    "logan_B2A_path = \"/mnt/sda/LOGAN_results/Translation_armchair-armlesschair/test/output_A2B_ply\"\n",
    "logan_B_path = \"/mnt/sda/LOGAN_results/Translation_armchair-armlesschair/test/input_A_ply\"\n",
    "all_pc = os.listdir(logan_B_path)"
   ]
  },
  {
   "cell_type": "code",
   "execution_count": 33,
   "id": "polished-sierra",
   "metadata": {},
   "outputs": [],
   "source": [
    "input_Bs = []\n",
    "B2As = []\n",
    "for pc in all_pc:\n",
    "    input_B = PlyData.read(os.path.join(logan_B_path, pc))\n",
    "    input_B = np.vstack([input_B['vertex']['x'], input_B['vertex']['y'], input_B['vertex']['z']]).T\n",
    "    input_Bs.append(input_B)\n",
    "    \n",
    "    B2A = PlyData.read(os.path.join(logan_B2A_path, pc))\n",
    "    B2A = np.vstack([B2A['vertex']['x'], B2A['vertex']['y'], B2A['vertex']['z']]).T\n",
    "    B2As.append(B2A)"
   ]
  },
  {
   "cell_type": "code",
   "execution_count": 34,
   "id": "swedish-tracy",
   "metadata": {},
   "outputs": [],
   "source": [
    "input_Bs = np.array(input_Bs)\n",
    "B2As = np.array(B2As)"
   ]
  },
  {
   "cell_type": "code",
   "execution_count": 37,
   "id": "exact-commerce",
   "metadata": {},
   "outputs": [],
   "source": [
    "imlogan_path = \"/mnt/sda/IM-LOGAN/outputs/armchair-armlesschair/armchair_gridae_gan\"\n",
    "all_pc_imlogan = [i.split('_')[-1].split('.')[0] for i in all_pc]"
   ]
  },
  {
   "cell_type": "code",
   "execution_count": 38,
   "id": "occupied-maryland",
   "metadata": {},
   "outputs": [],
   "source": [
    "input_Bs_imlogan = []\n",
    "B2As_imlogan = []\n",
    "for pc in all_pc_imlogan:\n",
    "    input_B = PlyData.read(os.path.join(imlogan_path, pc + \"_input_pcd.ply\"))\n",
    "    input_B = np.vstack([input_B['vertex']['x'], input_B['vertex']['y'], input_B['vertex']['z']]).T\n",
    "    input_Bs_imlogan.append(input_B)\n",
    "    \n",
    "    B2A = PlyData.read(os.path.join(imlogan_path, pc + \"_trans_z0_pcd.ply\"))\n",
    "    B2A = np.vstack([B2A['vertex']['x'], B2A['vertex']['y'], B2A['vertex']['z']]).T\n",
    "    B2As_imlogan.append(B2A)"
   ]
  },
  {
   "cell_type": "code",
   "execution_count": 39,
   "id": "auburn-alabama",
   "metadata": {},
   "outputs": [],
   "source": [
    "input_Bs_imlogan = np.array(input_Bs_imlogan)\n",
    "B2As_imlogan = np.array(B2As_imlogan)"
   ]
  },
  {
   "cell_type": "code",
   "execution_count": 27,
   "id": "bottom-steam",
   "metadata": {},
   "outputs": [],
   "source": [
    "imlogan_ae_path = \"/mnt/sda/IM-LOGAN/outputs/armchair-armlesschair/armchair_gan\"\n",
    "all_pc_imlogan_ae = [i.split('_')[-1].split('.')[0] for i in all_pc]"
   ]
  },
  {
   "cell_type": "code",
   "execution_count": 28,
   "id": "retained-planning",
   "metadata": {},
   "outputs": [],
   "source": [
    "input_Bs_imlogan_ae = []\n",
    "B2As_imlogan_ae = []\n",
    "for pc in all_pc_imlogan_ae:\n",
    "    input_B = PlyData.read(os.path.join(imlogan_ae_path, pc + \"_input_pcd.ply\"))\n",
    "    input_B = np.vstack([input_B['vertex']['x'], input_B['vertex']['y'], input_B['vertex']['z']]).T\n",
    "    input_Bs_imlogan_ae.append(input_B)\n",
    "    \n",
    "    B2A = PlyData.read(os.path.join(imlogan_ae_path, pc + \"_trans_z0_pcd.ply\"))\n",
    "    B2A = np.vstack([B2A['vertex']['x'], B2A['vertex']['y'], B2A['vertex']['z']]).T\n",
    "    B2As_imlogan_ae.append(B2A)"
   ]
  },
  {
   "cell_type": "code",
   "execution_count": 29,
   "id": "extra-arabic",
   "metadata": {},
   "outputs": [],
   "source": [
    "input_Bs_imlogan_ae = np.array(input_Bs_imlogan_ae)\n",
    "B2As_imlogan_ae = np.array(B2As_imlogan_ae)"
   ]
  },
  {
   "cell_type": "code",
   "execution_count": null,
   "id": "desperate-bankruptcy",
   "metadata": {},
   "outputs": [],
   "source": []
  },
  {
   "cell_type": "code",
   "execution_count": 36,
   "id": "focused-property",
   "metadata": {},
   "outputs": [
    {
     "name": "stdout",
     "output_type": "stream",
     "text": [
      "0.026826801359575977\n"
     ]
    }
   ],
   "source": [
    "logan_cd = []\n",
    "for i in range(len(B2As)):\n",
    "#     pred_tree = KDTree(B2As[i])\n",
    "#     dist, inds = pred_tree.query(input_Bs[i], k=1)\n",
    "    pred_tree = KDTree(input_Bs[i])\n",
    "    dist, inds = pred_tree.query(B2As[i], k=2)\n",
    "    logan_cd.append(np.mean(dist))\n",
    "print(np.mean(logan_cd))"
   ]
  },
  {
   "cell_type": "code",
   "execution_count": 42,
   "id": "alike-balloon",
   "metadata": {},
   "outputs": [
    {
     "name": "stdout",
     "output_type": "stream",
     "text": [
      "0.025449350067638273\n"
     ]
    }
   ],
   "source": [
    "imlogan_cd = []\n",
    "for i in range(len(B2As_imlogan)):\n",
    "#     pred_tree = KDTree(B2As_imlogan[i])\n",
    "#     dist, inds = pred_tree.query(input_Bs_imlogan[i], k=1)\n",
    "    pred_tree = KDTree(input_Bs_imlogan[i])\n",
    "    dist, inds = pred_tree.query(B2As_imlogan[i], k=1)\n",
    "    imlogan_cd.append(np.mean(dist))\n",
    "print(np.mean(imlogan_cd))"
   ]
  },
  {
   "cell_type": "code",
   "execution_count": null,
   "id": "another-characteristic",
   "metadata": {},
   "outputs": [],
   "source": [
    "imlogan_ae_cd = []\n",
    "for i in range(len(B2As_imlogan_ae)):\n",
    "#     pred_tree = KDTree(B2As_imlogan_ae[i])\n",
    "#     dist, inds = pred_tree.query(input_Bs_imlogan_ae[i], k=1)\n",
    "    pred_tree = KDTree(input_Bs_imlogan_ae[i])\n",
    "    dist, inds = pred_tree.query(B2As_imlogan_ae[i], k=1)\n",
    "    imlogan_ae_cd.append(np.mean(dist))\n",
    "print(np.mean(imlogan_ae_cd))"
   ]
  },
  {
   "cell_type": "code",
   "execution_count": null,
   "id": "round-bidding",
   "metadata": {},
   "outputs": [],
   "source": []
  },
  {
   "cell_type": "code",
   "execution_count": null,
   "id": "seventh-smart",
   "metadata": {},
   "outputs": [],
   "source": []
  },
  {
   "cell_type": "code",
   "execution_count": null,
   "id": "pacific-possibility",
   "metadata": {},
   "outputs": [],
   "source": []
  },
  {
   "cell_type": "code",
   "execution_count": null,
   "id": "polished-terrace",
   "metadata": {},
   "outputs": [],
   "source": []
  }
 ],
 "metadata": {
  "kernelspec": {
   "display_name": "Python 3",
   "language": "python",
   "name": "python3"
  },
  "language_info": {
   "codemirror_mode": {
    "name": "ipython",
    "version": 3
   },
   "file_extension": ".py",
   "mimetype": "text/x-python",
   "name": "python",
   "nbconvert_exporter": "python",
   "pygments_lexer": "ipython3",
   "version": "3.6.12"
  }
 },
 "nbformat": 4,
 "nbformat_minor": 5
}
